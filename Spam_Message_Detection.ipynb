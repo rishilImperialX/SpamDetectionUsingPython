{
  "cells": [
    {
      "cell_type": "markdown",
      "metadata": {
        "id": "view-in-github",
        "colab_type": "text"
      },
      "source": [
        "<a href=\"https://colab.research.google.com/github/rishilImperialX/SpamDetectionUsingPython/blob/main/Spam_Message_Detection.ipynb\" target=\"_parent\"><img src=\"https://colab.research.google.com/assets/colab-badge.svg\" alt=\"Open In Colab\"/></a>"
      ]
    },
    {
      "cell_type": "code",
      "execution_count": null,
      "metadata": {
        "colab": {
          "base_uri": "https://localhost:8080/"
        },
        "id": "IGI70zBwZGgI",
        "outputId": "b4e3c83d-3eae-46cc-f73b-f26fcad39880"
      },
      "outputs": [
        {
          "name": "stdout",
          "output_type": "stream",
          "text": [
            "Mounted at /content/drive\n"
          ]
        }
      ],
      "source": [
        "from google.colab import drive\n",
        "drive.mount('/content/drive')"
      ]
    },
    {
      "cell_type": "code",
      "execution_count": null,
      "metadata": {
        "id": "mXBGLxh8Z0Db"
      },
      "outputs": [],
      "source": [
        "dataset='/content/drive/My Drive/Colab Notebooks/smsspamcollection/SMSSpamCollection.txt'"
      ]
    },
    {
      "cell_type": "code",
      "execution_count": null,
      "metadata": {
        "colab": {
          "base_uri": "https://localhost:8080/",
          "height": 206
        },
        "id": "qjhoBu6_bMrb",
        "outputId": "bcbf949f-6b1a-4d4b-f206-c762ceae1977"
      },
      "outputs": [
        {
          "data": {
            "text/html": [
              "<div>\n",
              "<style scoped>\n",
              "    .dataframe tbody tr th:only-of-type {\n",
              "        vertical-align: middle;\n",
              "    }\n",
              "\n",
              "    .dataframe tbody tr th {\n",
              "        vertical-align: top;\n",
              "    }\n",
              "\n",
              "    .dataframe thead th {\n",
              "        text-align: right;\n",
              "    }\n",
              "</style>\n",
              "<table border=\"1\" class=\"dataframe\">\n",
              "  <thead>\n",
              "    <tr style=\"text-align: right;\">\n",
              "      <th></th>\n",
              "      <th>label</th>\n",
              "      <th>sms</th>\n",
              "    </tr>\n",
              "  </thead>\n",
              "  <tbody>\n",
              "    <tr>\n",
              "      <th>0</th>\n",
              "      <td>ham</td>\n",
              "      <td>Go until jurong point, crazy.. Available only ...</td>\n",
              "    </tr>\n",
              "    <tr>\n",
              "      <th>1</th>\n",
              "      <td>ham</td>\n",
              "      <td>Ok lar... Joking wif u oni...</td>\n",
              "    </tr>\n",
              "    <tr>\n",
              "      <th>2</th>\n",
              "      <td>spam</td>\n",
              "      <td>Free entry in 2 a wkly comp to win FA Cup fina...</td>\n",
              "    </tr>\n",
              "    <tr>\n",
              "      <th>3</th>\n",
              "      <td>ham</td>\n",
              "      <td>U dun say so early hor... U c already then say...</td>\n",
              "    </tr>\n",
              "    <tr>\n",
              "      <th>4</th>\n",
              "      <td>ham</td>\n",
              "      <td>Nah I don't think he goes to usf, he lives aro...</td>\n",
              "    </tr>\n",
              "  </tbody>\n",
              "</table>\n",
              "</div>"
            ],
            "text/plain": [
              "  label                                                sms\n",
              "0   ham  Go until jurong point, crazy.. Available only ...\n",
              "1   ham                      Ok lar... Joking wif u oni...\n",
              "2  spam  Free entry in 2 a wkly comp to win FA Cup fina...\n",
              "3   ham  U dun say so early hor... U c already then say...\n",
              "4   ham  Nah I don't think he goes to usf, he lives aro..."
            ]
          },
          "execution_count": 15,
          "metadata": {},
          "output_type": "execute_result"
        }
      ],
      "source": [
        "import pandas as pd\n",
        "data_file=pd.read_csv(dataset,sep=\"\\t\",header=None,names=['label','sms'])\n",
        "data_file.head()"
      ]
    },
    {
      "cell_type": "code",
      "execution_count": null,
      "metadata": {
        "colab": {
          "base_uri": "https://localhost:8080/"
        },
        "id": "_7cQi37reT9L",
        "outputId": "3a29239e-368f-4426-f417-c575a0090ae1"
      },
      "outputs": [
        {
          "name": "stdout",
          "output_type": "stream",
          "text": [
            "['i', 'me', 'my', 'myself', 'we']\n",
            "!\"#$%&'()*+,-./:;<=>?@[\\]^_`{|}~\n"
          ]
        }
      ],
      "source": [
        "#pre-processing step\n",
        "import string\n",
        "import nltk\n",
        "# nltk.download('stopwords')\n",
        "# nltk.download('punkt')\n",
        "\n",
        "stopwords=nltk.corpus.stopwords.words('english')\n",
        "punctuation=string.punctuation\n",
        "print(stopwords[:5])\n",
        "print(punctuation)"
      ]
    },
    {
      "cell_type": "code",
      "execution_count": null,
      "metadata": {
        "colab": {
          "base_uri": "https://localhost:8080/",
          "height": 363
        },
        "id": "Gusx1cpcf9BE",
        "outputId": "6747f75a-64ef-4ada-f6a4-ffa3eafe9fa2"
      },
      "outputs": [
        {
          "output_type": "execute_result",
          "data": {
            "text/html": [
              "<div>\n",
              "<style scoped>\n",
              "    .dataframe tbody tr th:only-of-type {\n",
              "        vertical-align: middle;\n",
              "    }\n",
              "\n",
              "    .dataframe tbody tr th {\n",
              "        vertical-align: top;\n",
              "    }\n",
              "\n",
              "    .dataframe thead th {\n",
              "        text-align: right;\n",
              "    }\n",
              "</style>\n",
              "<table border=\"1\" class=\"dataframe\">\n",
              "  <thead>\n",
              "    <tr style=\"text-align: right;\">\n",
              "      <th></th>\n",
              "      <th>label</th>\n",
              "      <th>sms</th>\n",
              "      <th>processed</th>\n",
              "    </tr>\n",
              "  </thead>\n",
              "  <tbody>\n",
              "    <tr>\n",
              "      <th>0</th>\n",
              "      <td>ham</td>\n",
              "      <td>Go until jurong point, crazy.. Available only ...</td>\n",
              "      <td>[go, jurong, point, crazy, available, bugis, n...</td>\n",
              "    </tr>\n",
              "    <tr>\n",
              "      <th>1</th>\n",
              "      <td>ham</td>\n",
              "      <td>Ok lar... Joking wif u oni...</td>\n",
              "      <td>[ok, lar, joking, wif, u, oni]</td>\n",
              "    </tr>\n",
              "    <tr>\n",
              "      <th>2</th>\n",
              "      <td>spam</td>\n",
              "      <td>Free entry in 2 a wkly comp to win FA Cup fina...</td>\n",
              "      <td>[free, entry, 2, wkly, comp, win, fa, cup, fin...</td>\n",
              "    </tr>\n",
              "    <tr>\n",
              "      <th>3</th>\n",
              "      <td>ham</td>\n",
              "      <td>U dun say so early hor... U c already then say...</td>\n",
              "      <td>[u, dun, say, early, hor, u, c, already, say]</td>\n",
              "    </tr>\n",
              "    <tr>\n",
              "      <th>4</th>\n",
              "      <td>ham</td>\n",
              "      <td>Nah I don't think he goes to usf, he lives aro...</td>\n",
              "      <td>[nah, dont, think, goes, usf, lives, around, t...</td>\n",
              "    </tr>\n",
              "    <tr>\n",
              "      <th>5</th>\n",
              "      <td>spam</td>\n",
              "      <td>FreeMsg Hey there darling it's been 3 week's n...</td>\n",
              "      <td>[freemsg, hey, darling, 3, weeks, word, back, ...</td>\n",
              "    </tr>\n",
              "    <tr>\n",
              "      <th>6</th>\n",
              "      <td>ham</td>\n",
              "      <td>Even my brother is not like to speak with me. ...</td>\n",
              "      <td>[even, brother, like, speak, treat, like, aids...</td>\n",
              "    </tr>\n",
              "    <tr>\n",
              "      <th>7</th>\n",
              "      <td>ham</td>\n",
              "      <td>As per your request 'Melle Melle (Oru Minnamin...</td>\n",
              "      <td>[per, request, melle, melle, oru, minnaminungi...</td>\n",
              "    </tr>\n",
              "    <tr>\n",
              "      <th>8</th>\n",
              "      <td>spam</td>\n",
              "      <td>WINNER!! As a valued network customer you have...</td>\n",
              "      <td>[winner, valued, network, customer, selected, ...</td>\n",
              "    </tr>\n",
              "    <tr>\n",
              "      <th>9</th>\n",
              "      <td>spam</td>\n",
              "      <td>Had your mobile 11 months or more? U R entitle...</td>\n",
              "      <td>[mobile, 11, months, u, r, entitled, update, l...</td>\n",
              "    </tr>\n",
              "  </tbody>\n",
              "</table>\n",
              "</div>"
            ],
            "text/plain": [
              "  label  ...                                          processed\n",
              "0   ham  ...  [go, jurong, point, crazy, available, bugis, n...\n",
              "1   ham  ...                     [ok, lar, joking, wif, u, oni]\n",
              "2  spam  ...  [free, entry, 2, wkly, comp, win, fa, cup, fin...\n",
              "3   ham  ...      [u, dun, say, early, hor, u, c, already, say]\n",
              "4   ham  ...  [nah, dont, think, goes, usf, lives, around, t...\n",
              "5  spam  ...  [freemsg, hey, darling, 3, weeks, word, back, ...\n",
              "6   ham  ...  [even, brother, like, speak, treat, like, aids...\n",
              "7   ham  ...  [per, request, melle, melle, oru, minnaminungi...\n",
              "8  spam  ...  [winner, valued, network, customer, selected, ...\n",
              "9  spam  ...  [mobile, 11, months, u, r, entitled, update, l...\n",
              "\n",
              "[10 rows x 3 columns]"
            ]
          },
          "metadata": {},
          "execution_count": 71
        }
      ],
      "source": [
        "def pre_process(sms):\n",
        "  lowercase = ''.join([char.lower() for char in sms if char not in punctuation])#punct removed\n",
        "  tokenize=nltk.tokenize.word_tokenize(lowercase)#form the tokens of all the words in sms\n",
        "  removed_stopwords=[word for word in tokenize if word not in stopwords]\n",
        "  return removed_stopwords\n",
        "\n",
        "data_file['processed'] = data_file['sms'].apply(lambda x : pre_process(x))\n",
        "data_file.head(10)\n"
      ]
    },
    {
      "cell_type": "code",
      "execution_count": null,
      "metadata": {
        "colab": {
          "base_uri": "https://localhost:8080/"
        },
        "id": "E_JtIZlak_It",
        "outputId": "a1b03a73-4a96-42a2-fb7e-64edfdf5cff0"
      },
      "outputs": [
        {
          "name": "stdout",
          "output_type": "stream",
          "text": [
            "['free', 'entry', '2', 'wkly', 'comp']\n",
            "['go', 'jurong', 'point', 'crazy', 'available']\n"
          ]
        }
      ],
      "source": [
        "#categorizing words\n",
        "def categorize_words():\n",
        "  spam_words=[]\n",
        "  ham_words=[]\n",
        "  #spam words collection\n",
        "  for sms in data_file['processed'][data_file['label'] == 'spam']:#gives a list in spam variable\n",
        "    for words in sms:#gives words in spam list\n",
        "      spam_words.append(words)\n",
        "\n",
        "  #ham words collection\n",
        "  for sms in data_file['processed'][data_file['label'] == 'ham']:#gives a list in spam variable\n",
        "    for words in sms:#gives words in spam list\n",
        "      ham_words.append(words)\n",
        "\n",
        "  return spam_words,ham_words\n",
        "\n",
        "spam_words,ham_words=categorize_words()\n",
        "\n",
        "  # for word in spam_words[:20]:\n",
        "  #   print(word)\n",
        "\n",
        "print(spam_words[:5])\n",
        "print(ham_words[:5])"
      ]
    },
    {
      "cell_type": "code",
      "execution_count": null,
      "metadata": {
        "id": "Q76xWMOchIeN"
      },
      "outputs": [],
      "source": [
        "def predict(user_input):\n",
        "  spam_counter,ham_counter=0,0\n",
        "\n",
        "  for words in user_input:\n",
        "    spam_counter+=spam_words.count(words)\n",
        "    ham_counter+=ham_words.count(words)\n",
        "  \n",
        "  print(\"***********************************Results***********************************\")\n",
        "  if ham_counter > spam_counter:\n",
        "    accuracy=(ham_counter/(ham_counter + spam_counter)) * 100\n",
        "    print(\"The message is not a spam with a {}% accuracy.\".format(round(accuracy,3)))\n",
        "\n",
        "  elif spam_counter > ham_counter:\n",
        "    accuracy=(spam_counter/(ham_counter + spam_counter)) * 100\n",
        "    print(\"The message is a spam with a {}% accuracy.\".format(round(accuracy,3)))\n",
        "  else:\n",
        "    print(\"The message could be spam or ham with a 50% accuracy.\")\n",
        "\n"
      ]
    },
    {
      "cell_type": "code",
      "execution_count": null,
      "metadata": {
        "colab": {
          "base_uri": "https://localhost:8080/"
        },
        "id": "w4IW7jSiqsIn",
        "outputId": "b73a4bc4-ce76-4710-b539-e99dcf773848"
      },
      "outputs": [
        {
          "output_type": "stream",
          "name": "stdout",
          "text": [
            "Enter a message to check if it's a spam or a ham\n",
            "can I help you?\n",
            "***********************************Results***********************************\n",
            "The message is not a spam with a 65.455% accuracy.\n"
          ]
        }
      ],
      "source": [
        "user_input=input(\"Enter a message to check if it's a spam or a ham\\n\")\n",
        "pre_processed_input = pre_process(user_input)\n",
        "predict(pre_processed_input)"
      ]
    }
  ],
  "metadata": {
    "colab": {
      "name": "Spam Message Detection.ipynb",
      "provenance": [],
      "collapsed_sections": [],
      "authorship_tag": "ABX9TyPk0YHyPjR3I6ruugugYhht",
      "include_colab_link": true
    },
    "kernelspec": {
      "display_name": "Python 3",
      "name": "python3"
    },
    "language_info": {
      "name": "python"
    }
  },
  "nbformat": 4,
  "nbformat_minor": 0
}